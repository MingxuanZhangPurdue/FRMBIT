{
 "cells": [
  {
   "cell_type": "code",
   "execution_count": 43,
   "id": "cc335e23-d584-451e-9071-b6d3119ded69",
   "metadata": {},
   "outputs": [],
   "source": [
    "import pandas as pd\n",
    "import numpy as np\n",
    "from functools import reduce\n",
    "\n",
    "train_id_filename = \"datasets/autocomplete_brain_heart_train_May1_2024.id.list\"\n",
    "with open(train_id_filename) as file:\n",
    "    train_ids = [int(line.rstrip()) for line in file]\n",
    "train_ids = np.array(train_ids)\n",
    "\n",
    "test_id_filename = \"datasets/autocomplete_brain_heart_test_May1_2024.id.list\"\n",
    "with open(test_id_filename) as file:\n",
    "    test_ids = [int(line.rstrip()) for line in file]\n",
    "test_ids = np.array(test_ids)\n",
    "\n",
    "heart = pd.read_csv(\"datasets/UKB_heart_bai82_Jan21_2021_QC_5mad_scale_resid_Sep19_2023.csv\")\n",
    "abd = pd.read_csv(\"datasets/ukb_abdominal_idp_41_042923_all_5mad_scale_resid_Sep19_2023.csv\")\n",
    "tfmri = pd.read_csv(\"datasets/tfMRI_2_all_5mad_scale_resid_Jun19_2023.csv\")\n",
    "smri = pd.read_csv(\"datasets/sMRI_2_all_5mad_scale_resid_Jun19_2023.csv\")\n",
    "rfmri = pd.read_csv(\"datasets/rfMRI_2_all_5mad_scale_resid_Jun19_2023.csv\")\n",
    "dmri = pd.read_csv(\"datasets/dMRI_2_all_5mad_scale_resid_Jun19_2023.csv\")"
   ]
  },
  {
   "cell_type": "code",
   "execution_count": 58,
   "id": "1473117a-11d3-4bf8-9ca1-b796aec371df",
   "metadata": {},
   "outputs": [],
   "source": [
    "dfs = [heart, abd, tfmri, smri, rfmri, dmri]\n",
    "merged_df = reduce(lambda left, right: pd.merge(left, right, on=['FID', 'IID'], how='outer'), dfs)\n",
    "merged_df = merged_df.drop(\"FID\", axis=1)\n",
    "merged_df = merged_df.rename(columns={'IID': 'ID'})\n",
    "train = merged_df[merged_df['ID'].isin(train_ids)]\n",
    "test  = merged_df[merged_df['ID'].isin(test_ids)]"
   ]
  },
  {
   "cell_type": "code",
   "execution_count": 59,
   "id": "39d84077-6b3d-49c2-8623-33e774109500",
   "metadata": {},
   "outputs": [],
   "source": [
    "train.to_csv(\"datasets/train.csv\", index=False)\n",
    "test.to_csv(\"datasets/test.csv\", index=False)"
   ]
  },
  {
   "cell_type": "code",
   "execution_count": null,
   "id": "4c296043-f56a-4f0a-9500-ba869a989116",
   "metadata": {},
   "outputs": [],
   "source": []
  }
 ],
 "metadata": {
  "kernelspec": {
   "display_name": "Python 3 (ipykernel)",
   "language": "python",
   "name": "python3"
  },
  "language_info": {
   "codemirror_mode": {
    "name": "ipython",
    "version": 3
   },
   "file_extension": ".py",
   "mimetype": "text/x-python",
   "name": "python",
   "nbconvert_exporter": "python",
   "pygments_lexer": "ipython3",
   "version": "3.10.14"
  }
 },
 "nbformat": 4,
 "nbformat_minor": 5
}
